{
  "nbformat": 4,
  "nbformat_minor": 0,
  "metadata": {
    "colab": {
      "provenance": []
    },
    "kernelspec": {
      "name": "python3",
      "display_name": "Python 3"
    },
    "language_info": {
      "name": "python"
    }
  },
  "cells": [
    {
      "cell_type": "code",
      "execution_count": null,
      "metadata": {
        "colab": {
          "base_uri": "https://localhost:8080/"
        },
        "id": "K13tyrUBuq_c",
        "outputId": "c845a370-18f3-4982-a6f6-bdd2389b9b30"
      },
      "outputs": [
        {
          "output_type": "stream",
          "name": "stdout",
          "text": [
            "Requirement already satisfied: requests in /usr/local/lib/python3.12/dist-packages (2.32.4)\n",
            "Requirement already satisfied: beautifulsoup4 in /usr/local/lib/python3.12/dist-packages (4.13.5)\n",
            "Requirement already satisfied: nltk in /usr/local/lib/python3.12/dist-packages (3.9.1)\n",
            "Requirement already satisfied: charset_normalizer<4,>=2 in /usr/local/lib/python3.12/dist-packages (from requests) (3.4.3)\n",
            "Requirement already satisfied: idna<4,>=2.5 in /usr/local/lib/python3.12/dist-packages (from requests) (3.10)\n",
            "Requirement already satisfied: urllib3<3,>=1.21.1 in /usr/local/lib/python3.12/dist-packages (from requests) (2.5.0)\n",
            "Requirement already satisfied: certifi>=2017.4.17 in /usr/local/lib/python3.12/dist-packages (from requests) (2025.8.3)\n",
            "Requirement already satisfied: soupsieve>1.2 in /usr/local/lib/python3.12/dist-packages (from beautifulsoup4) (2.8)\n",
            "Requirement already satisfied: typing-extensions>=4.0.0 in /usr/local/lib/python3.12/dist-packages (from beautifulsoup4) (4.15.0)\n",
            "Requirement already satisfied: click in /usr/local/lib/python3.12/dist-packages (from nltk) (8.2.1)\n",
            "Requirement already satisfied: joblib in /usr/local/lib/python3.12/dist-packages (from nltk) (1.5.2)\n",
            "Requirement already satisfied: regex>=2021.8.3 in /usr/local/lib/python3.12/dist-packages (from nltk) (2024.11.6)\n",
            "Requirement already satisfied: tqdm in /usr/local/lib/python3.12/dist-packages (from nltk) (4.67.1)\n"
          ]
        }
      ],
      "source": [
        "!pip install requests beautifulsoup4 nltk"
      ]
    },
    {
      "cell_type": "code",
      "source": [
        "import requests\n",
        "from bs4 import BeautifulSoup\n",
        "import nltk\n",
        "\n",
        "#NLTK resources\n",
        "nltk.download(\"punkt\")\n",
        "nltk.download(\"stopwords\")\n",
        "nltk.download(\"wordnet\")"
      ],
      "metadata": {
        "colab": {
          "base_uri": "https://localhost:8080/"
        },
        "id": "7byfUmbGuxYO",
        "outputId": "a9865771-5a29-4eff-b69b-ce2fe455f7e9"
      },
      "execution_count": null,
      "outputs": [
        {
          "output_type": "stream",
          "name": "stderr",
          "text": [
            "[nltk_data] Downloading package punkt to /root/nltk_data...\n",
            "[nltk_data]   Package punkt is already up-to-date!\n",
            "[nltk_data] Downloading package stopwords to /root/nltk_data...\n",
            "[nltk_data]   Package stopwords is already up-to-date!\n",
            "[nltk_data] Downloading package wordnet to /root/nltk_data...\n",
            "[nltk_data]   Package wordnet is already up-to-date!\n"
          ]
        },
        {
          "output_type": "execute_result",
          "data": {
            "text/plain": [
              "True"
            ]
          },
          "metadata": {},
          "execution_count": 2
        }
      ]
    },
    {
      "cell_type": "code",
      "source": [
        "import requests\n",
        "from bs4 import BeautifulSoup\n",
        "import textwrap\n",
        "\n",
        "def scrape_website(url, width=100):\n",
        "    headers = {\"User-Agent\": \"MyWebScraper/1.0 (your_email@example.com)\"}\n",
        "    response = requests.get(url, headers=headers)\n",
        "\n",
        "    if response.status_code != 200:\n",
        "        print(\"Failed to retrieve:\", response.status_code)\n",
        "        return \"\"\n",
        "\n",
        "    soup = BeautifulSoup(response.text, \"html.parser\")\n",
        "\n",
        "    # Collect all visible <p> text\n",
        "    paragraphs = [p.get_text() for p in soup.find_all(\"p\")]\n",
        "    text = \" \".join(paragraphs).strip()\n",
        "\n",
        "    # Wrap long text so it fits horizontally\n",
        "    wrapped_text = textwrap.fill(text, width=width)\n",
        "    return wrapped_text\n",
        "\n",
        "# Example usage\n",
        "url = \"https://www.thehindu.com/news/national/manipur/pm-modi-in-manipur-ethnic-conflict-kukis-meitei-northeast-live-updates-september-13-2025/article70044638.ece\"\n",
        "raw_text = scrape_website(url)\n",
        "\n",
        "print(\"Scraped Data\\n\")\n",
        "print(raw_text[:500])"
      ],
      "metadata": {
        "colab": {
          "base_uri": "https://localhost:8080/"
        },
        "id": "dTp-5lnIu3A7",
        "outputId": "0c95b95b-c836-4092-e526-e916ead4c9fc"
      },
      "execution_count": null,
      "outputs": [
        {
          "output_type": "stream",
          "name": "stdout",
          "text": [
            "Scraped Data\n",
            "\n",
            "September 13, 2025e-Paper\n",
            "The View From India                                                                         Looking\n",
            "at World Affairs from the Indian perspective.\n",
            "First Day First Show                                                                         News\n",
            "and reviews from the world of cinema and streaming.\n",
            "Today's Cache                                                                         Your download\n",
            "of the top 5 technology stories of the day.\n",
            "Science For All                   \n"
          ]
        }
      ]
    },
    {
      "cell_type": "code",
      "source": [
        "clean_text = raw_text.lower()\n",
        "print(clean_text[:200])"
      ],
      "metadata": {
        "colab": {
          "base_uri": "https://localhost:8080/"
        },
        "id": "4NoKdrEbv1MF",
        "outputId": "c44637d0-178e-42f8-be52-7f27f3501b33"
      },
      "execution_count": null,
      "outputs": [
        {
          "output_type": "stream",
          "name": "stdout",
          "text": [
            "september 13, 2025e-paper\n",
            "the view from india                                                                         looking\n",
            "at world affairs from the indian perspective.\n",
            "first day first show        \n"
          ]
        }
      ]
    },
    {
      "cell_type": "code",
      "source": [
        "#lowercase\n",
        "def clean_lowercase(text):\n",
        "    return text.lower()\n",
        "\n",
        "lowercased_text = clean_lowercase(raw_text)\n",
        "print(\"Lowercased\\n\")\n",
        "print(textwrap.fill(lowercased_text[:500], width=100))"
      ],
      "metadata": {
        "colab": {
          "base_uri": "https://localhost:8080/"
        },
        "id": "RJ-7TBzrv7Fa",
        "outputId": "2dad652a-cb07-44e0-e06d-858714f9ecaf"
      },
      "execution_count": null,
      "outputs": [
        {
          "output_type": "stream",
          "name": "stdout",
          "text": [
            "Lowercased\n",
            "\n",
            "september 13, 2025e-paper the view from india\n",
            "looking at world affairs from the indian perspective. first day first show\n",
            "news and reviews from the world of cinema and streaming. today's cache\n",
            "your download of the top 5 technology stories of the day. science for all\n"
          ]
        }
      ]
    },
    {
      "cell_type": "code",
      "source": [
        "import re\n",
        "# multiple spaces, tabs, newlines\n",
        "def clean_whitespace(text):\n",
        "    return re.sub(r'\\s+', ' ', text)\n",
        "\n",
        "whitespace_cleaned = clean_whitespace(lowercased_text)\n",
        "print(\"Whitespace Cleaned Text:\\n\")\n",
        "print(textwrap.fill(whitespace_cleaned[:500], width=100))\n"
      ],
      "metadata": {
        "colab": {
          "base_uri": "https://localhost:8080/"
        },
        "id": "0KGLx6wpwEfs",
        "outputId": "c3b256b1-4dac-4fea-eeee-fc96ee6ab856"
      },
      "execution_count": null,
      "outputs": [
        {
          "output_type": "stream",
          "name": "stdout",
          "text": [
            "Whitespace Cleaned Text:\n",
            "\n",
            "september 13, 2025e-paper the view from india looking at world affairs from the indian perspective.\n",
            "first day first show news and reviews from the world of cinema and streaming. today's cache your\n",
            "download of the top 5 technology stories of the day. science for all the weekly newsletter from\n",
            "science writers takes the jargon out of science and puts the fun in! data point decoding the\n",
            "headlines with facts, figures, and numbers health matters ramya kannan writes to you on getting to\n",
            "good health, an\n"
          ]
        }
      ]
    },
    {
      "cell_type": "code",
      "source": [
        "# Remove dates like \"september 13, 2025\"\n",
        "def remove_dates(text):\n",
        "    return re.sub(r'\\b(?:january|february|march|april|may|june|july|august|'\n",
        "                  r'september|october|november|december)\\s+\\d{1,2},\\s+\\d{4}\\b', '', text)\n",
        "\n",
        "dates_removed = remove_dates(whitespace_cleaned)\n",
        "print(\"Dates Removed Text:\\n\")\n",
        "print(textwrap.fill(dates_removed[:500], width=100))"
      ],
      "metadata": {
        "colab": {
          "base_uri": "https://localhost:8080/"
        },
        "id": "iaabP-3BxcBH",
        "outputId": "f83fbb7b-ae9e-4146-a51e-9c3ad254c6b0"
      },
      "execution_count": null,
      "outputs": [
        {
          "output_type": "stream",
          "name": "stdout",
          "text": [
            "Dates Removed Text:\n",
            "\n",
            "september 13, 2025e-paper the view from india looking at world affairs from the indian perspective.\n",
            "first day first show news and reviews from the world of cinema and streaming. today's cache your\n",
            "download of the top 5 technology stories of the day. science for all the weekly newsletter from\n",
            "science writers takes the jargon out of science and puts the fun in! data point decoding the\n",
            "headlines with facts, figures, and numbers health matters ramya kannan writes to you on getting to\n",
            "good health, an\n"
          ]
        }
      ]
    },
    {
      "cell_type": "code",
      "source": [
        "# Remove numbers with currency symbols (₹8,500, etc.)\n",
        "def remove_currency_numbers(text):\n",
        "    return re.sub(r'₹?\\d+(?:,\\d{3})*(?:\\.\\d+)?', '', text)\n",
        "\n",
        "currency_removed = remove_currency_numbers(dates_removed)\n",
        "print(\"Currency Numbers Removed:\\n\")\n",
        "print(textwrap.fill(currency_removed[:500], width=100))"
      ],
      "metadata": {
        "colab": {
          "base_uri": "https://localhost:8080/"
        },
        "id": "IOCvL9sexgst",
        "outputId": "cab8540d-262a-48d2-ef5e-1de73ec885ae"
      },
      "execution_count": null,
      "outputs": [
        {
          "output_type": "stream",
          "name": "stdout",
          "text": [
            "Currency Numbers Removed:\n",
            "\n",
            "september , e-paper the view from india looking at world affairs from the indian perspective. first\n",
            "day first show news and reviews from the world of cinema and streaming. today's cache your download\n",
            "of the top  technology stories of the day. science for all the weekly newsletter from science\n",
            "writers takes the jargon out of science and puts the fun in! data point decoding the headlines with\n",
            "facts, figures, and numbers health matters ramya kannan writes to you on getting to good health, and\n",
            "stayi\n"
          ]
        }
      ]
    },
    {
      "cell_type": "code",
      "source": [
        "# Remove unwanted symbols (like ©, |, /, --, etc.)\n",
        "def remove_symbols(text):\n",
        "    return re.sub(r'[©\\|/\\-\\–\\—]', ' ', text)\n",
        "\n",
        "symbols_removed = remove_symbols(currency_removed)\n",
        "print(\"Symbols Removed:\\n\")\n",
        "print(textwrap.fill(symbols_removed[:500], width=100))"
      ],
      "metadata": {
        "colab": {
          "base_uri": "https://localhost:8080/"
        },
        "id": "MLWXoU8axpSs",
        "outputId": "71c3512f-4d48-41be-bd21-7b98dddc3ed5"
      },
      "execution_count": null,
      "outputs": [
        {
          "output_type": "stream",
          "name": "stdout",
          "text": [
            "Symbols Removed:\n",
            "\n",
            "september , e paper the view from india looking at world affairs from the indian perspective. first\n",
            "day first show news and reviews from the world of cinema and streaming. today's cache your download\n",
            "of the top  technology stories of the day. science for all the weekly newsletter from science\n",
            "writers takes the jargon out of science and puts the fun in! data point decoding the headlines with\n",
            "facts, figures, and numbers health matters ramya kannan writes to you on getting to good health, and\n",
            "stayi\n"
          ]
        }
      ]
    },
    {
      "cell_type": "code",
      "source": [
        "# Strip extra whitespace\n",
        "def strip_extra_whitespace(text):\n",
        "    return text.strip()\n",
        "\n",
        "\n",
        "final_cleaned = strip_extra_whitespace(symbols_removed)\n",
        "print(\"Final Cleaned Text:\\n\")\n",
        "print(textwrap.fill(final_cleaned[:500], width=100))"
      ],
      "metadata": {
        "colab": {
          "base_uri": "https://localhost:8080/"
        },
        "id": "jUiVYAcmxzBj",
        "outputId": "e5794536-31d7-4d93-8744-6bcb10602108"
      },
      "execution_count": null,
      "outputs": [
        {
          "output_type": "stream",
          "name": "stdout",
          "text": [
            "Final Cleaned Text:\n",
            "\n",
            "september , e paper the view from india looking at world affairs from the indian perspective. first\n",
            "day first show news and reviews from the world of cinema and streaming. today's cache your download\n",
            "of the top  technology stories of the day. science for all the weekly newsletter from science\n",
            "writers takes the jargon out of science and puts the fun in! data point decoding the headlines with\n",
            "facts, figures, and numbers health matters ramya kannan writes to you on getting to good health, and\n",
            "stayi\n"
          ]
        }
      ]
    },
    {
      "cell_type": "code",
      "source": [
        "# Whitespace\n",
        "def strip_extra_whitespace(text):\n",
        "    text = text.strip()\n",
        "    # Multiple ke jagah single\n",
        "    text = re.sub(r'\\s+', ' ', text)\n",
        "    return text\n",
        "\n",
        "\n",
        "final_cleaned = strip_extra_whitespace(symbols_removed)\n",
        "\n",
        "print(\"Final Cleaned Text:\\n\")\n",
        "print(textwrap.fill(final_cleaned[:500], width=100))"
      ],
      "metadata": {
        "colab": {
          "base_uri": "https://localhost:8080/"
        },
        "id": "HhQjxsTlx5ot",
        "outputId": "71f0933a-47d3-475a-d150-06c87f15ce28"
      },
      "execution_count": null,
      "outputs": [
        {
          "output_type": "stream",
          "name": "stdout",
          "text": [
            "Final Cleaned Text:\n",
            "\n",
            "september , e paper the view from india looking at world affairs from the indian perspective. first\n",
            "day first show news and reviews from the world of cinema and streaming. today's cache your download\n",
            "of the top technology stories of the day. science for all the weekly newsletter from science writers\n",
            "takes the jargon out of science and puts the fun in! data point decoding the headlines with facts,\n",
            "figures, and numbers health matters ramya kannan writes to you on getting to good health, and stayin\n"
          ]
        }
      ]
    },
    {
      "cell_type": "code",
      "source": [
        "from nltk.tokenize import sent_tokenize\n",
        "\n",
        "sentences = sent_tokenize(final_cleaned)\n",
        "print(\"First 5 sentences:\\n\", sentences[:5])"
      ],
      "metadata": {
        "colab": {
          "base_uri": "https://localhost:8080/"
        },
        "id": "Yi6_kjWgyNCe",
        "outputId": "ccb3ab4f-169c-4adc-b85c-3c23a0152c72"
      },
      "execution_count": null,
      "outputs": [
        {
          "output_type": "stream",
          "name": "stdout",
          "text": [
            "First 5 sentences:\n",
            " ['september , e paper the view from india looking at world affairs from the indian perspective.', 'first day first show news and reviews from the world of cinema and streaming.', \"today's cache your download of the top technology stories of the day.\", 'science for all the weekly newsletter from science writers takes the jargon out of science and puts the fun in!', 'data point decoding the headlines with facts, figures, and numbers health matters ramya kannan writes to you on getting to good health, and staying there the hindu on books books of the week, reviews, excerpts, new titles and features.']\n"
          ]
        }
      ]
    },
    {
      "cell_type": "code",
      "source": [
        "from nltk.tokenize import word_tokenize\n",
        "\n",
        "words = word_tokenize(final_cleaned)\n",
        "print(\"First 20 words:\\n\", words[:20])"
      ],
      "metadata": {
        "colab": {
          "base_uri": "https://localhost:8080/"
        },
        "id": "o2emd8PNyQe7",
        "outputId": "f4ad9d90-a21e-448f-c306-06cec6d5ae86"
      },
      "execution_count": null,
      "outputs": [
        {
          "output_type": "stream",
          "name": "stdout",
          "text": [
            "First 20 words:\n",
            " ['september', ',', 'e', 'paper', 'the', 'view', 'from', 'india', 'looking', 'at', 'world', 'affairs', 'from', 'the', 'indian', 'perspective', '.', 'first', 'day', 'first']\n"
          ]
        }
      ]
    },
    {
      "cell_type": "code",
      "source": [
        "from nltk.corpus import stopwords\n",
        "\n",
        "stop_words = set(stopwords.words(\"english\"))\n",
        "words_nostop = [w for w in words if w.isalpha() and w not in stop_words]\n",
        "\n",
        "print(\"First 20 words after stopword removal:\\n\", words_nostop[:20])\n"
      ],
      "metadata": {
        "colab": {
          "base_uri": "https://localhost:8080/"
        },
        "id": "S7fKWamoz9hi",
        "outputId": "c0ed5419-5ea7-4bc0-c1d1-447e7ab311c0"
      },
      "execution_count": null,
      "outputs": [
        {
          "output_type": "stream",
          "name": "stdout",
          "text": [
            "First 20 words after stopword removal:\n",
            " ['september', 'e', 'paper', 'view', 'india', 'looking', 'world', 'affairs', 'indian', 'perspective', 'first', 'day', 'first', 'show', 'news', 'reviews', 'world', 'cinema', 'streaming', 'today']\n"
          ]
        }
      ]
    },
    {
      "cell_type": "code",
      "source": [
        "from nltk.stem import PorterStemmer\n",
        "\n",
        "stemmer = PorterStemmer()\n",
        "stems = [stemmer.stem(w) for w in words_nostop]\n",
        "\n",
        "print(\"First 20 stems:\\n\", stems[:20])\n"
      ],
      "metadata": {
        "colab": {
          "base_uri": "https://localhost:8080/"
        },
        "id": "4Ha9VKAC0AWG",
        "outputId": "b5bc1e7d-2288-499a-945e-51f6dc40b5cd"
      },
      "execution_count": null,
      "outputs": [
        {
          "output_type": "stream",
          "name": "stdout",
          "text": [
            "First 20 stems:\n",
            " ['septemb', 'e', 'paper', 'view', 'india', 'look', 'world', 'affair', 'indian', 'perspect', 'first', 'day', 'first', 'show', 'news', 'review', 'world', 'cinema', 'stream', 'today']\n"
          ]
        }
      ]
    },
    {
      "cell_type": "code",
      "source": [
        "from nltk.stem import WordNetLemmatizer\n",
        "\n",
        "lemmatizer = WordNetLemmatizer()\n",
        "lemmas = [lemmatizer.lemmatize(w) for w in words_nostop]\n",
        "\n",
        "print(\"First 20 lemmas:\\n\", lemmas[:20])"
      ],
      "metadata": {
        "colab": {
          "base_uri": "https://localhost:8080/"
        },
        "id": "oALRrtud0C2U",
        "outputId": "0193272a-c0a0-49d5-edfc-71c80623b82b"
      },
      "execution_count": null,
      "outputs": [
        {
          "output_type": "stream",
          "name": "stdout",
          "text": [
            "First 20 lemmas:\n",
            " ['september', 'e', 'paper', 'view', 'india', 'looking', 'world', 'affair', 'indian', 'perspective', 'first', 'day', 'first', 'show', 'news', 'review', 'world', 'cinema', 'streaming', 'today']\n"
          ]
        }
      ]
    },
    {
      "cell_type": "code",
      "source": [],
      "metadata": {
        "id": "u6jmWqjd0E7G"
      },
      "execution_count": null,
      "outputs": []
    }
  ]
}